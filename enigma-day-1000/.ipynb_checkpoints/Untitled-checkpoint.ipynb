{
 "cells": [
  {
   "cell_type": "code",
   "execution_count": null,
   "metadata": {},
   "outputs": [],
   "source": [
    "import numpy as np \n",
    "import pandas as pd \n",
    "\n",
    "df = pd.read_csv(\"train.csv\")\n",
    "\n",
    "\n",
    "\n",
    "features = ['Number of soldiers'\n",
    "'Number of tanks'\n",
    "'Number of aircrafts\n",
    "]\n",
    "\n",
    "X = df[features]\n",
    "Y = df['Victory Status']\n",
    "\n",
    "\n",
    "def data_normalizer(train_data, type_normalization):\n",
    "  if type_normalization == 'mean':\n",
    "    train_data_n = (train_data-train_data.mean())/train_data.std()\n",
    "    #test_data_n = (test_data-test_data.mean())/test_data.std()\n",
    "  elif type_normalization =='minmax':\n",
    "    train_data_n = (train_data-train_data.min())/(train_data.max()-train_data.min())\n",
    "    #test_data_n = (test_data-test_data.min())/(test_data.max()-test_data.min())\n",
    "\n",
    "  return train_data_n\n",
    "\n",
    "\n",
    "X = data_normalizer(X,'mean')\n",
    "\n",
    "\n",
    "from sklearn.model_selection import train_test_split\n",
    "\n",
    "x_train,x_test,y_train,y_test = train_test_split(X,Y,test_size = 0.25)\n",
    "\n",
    "\n",
    "from sklearn.neighbors import KNeighborsClassifier\n",
    "from sklearn import metrics"
   ]
  }
 ],
 "metadata": {
  "kernelspec": {
   "display_name": "Python 3",
   "language": "python",
   "name": "python3"
  },
  "language_info": {
   "codemirror_mode": {
    "name": "ipython",
    "version": 3
   },
   "file_extension": ".py",
   "mimetype": "text/x-python",
   "name": "python",
   "nbconvert_exporter": "python",
   "pygments_lexer": "ipython3",
   "version": "3.6.9"
  }
 },
 "nbformat": 4,
 "nbformat_minor": 4
}
